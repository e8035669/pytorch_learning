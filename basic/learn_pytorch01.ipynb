{
  "nbformat": 4,
  "nbformat_minor": 0,
  "metadata": {
    "colab": {
      "name": "learn_pytorch01.ipynb",
      "version": "0.3.2",
      "provenance": [],
      "include_colab_link": true
    },
    "kernelspec": {
      "name": "python3",
      "display_name": "Python 3"
    },
    "accelerator": "GPU"
  },
  "cells": [
    {
      "cell_type": "markdown",
      "metadata": {
        "id": "view-in-github",
        "colab_type": "text"
      },
      "source": [
        "<a href=\"https://colab.research.google.com/github/e8035669/pytorch_learning/blob/master/basic/learn_pytorch01.ipynb\" target=\"_parent\"><img src=\"https://colab.research.google.com/assets/colab-badge.svg\" alt=\"Open In Colab\"/></a>"
      ]
    },
    {
      "metadata": {
        "id": "WUXzkBNSTvHa",
        "colab_type": "code",
        "colab": {}
      },
      "cell_type": "code",
      "source": [
        "!pip3 install torch torchvision"
      ],
      "execution_count": 0,
      "outputs": []
    },
    {
      "metadata": {
        "id": "iUhIGedxUFdA",
        "colab_type": "code",
        "colab": {}
      },
      "cell_type": "code",
      "source": [
        "import torch"
      ],
      "execution_count": 0,
      "outputs": []
    },
    {
      "metadata": {
        "id": "in7nt1VzUwHs",
        "colab_type": "code",
        "outputId": "00c42f66-6711-4949-db8d-2c01d4093037",
        "colab": {
          "base_uri": "https://localhost:8080/",
          "height": 102
        }
      },
      "cell_type": "code",
      "source": [
        "x = torch.empty(5,3)\n",
        "print(x)"
      ],
      "execution_count": 0,
      "outputs": [
        {
          "output_type": "stream",
          "text": [
            "tensor([[1.4951e-35, 0.0000e+00, 2.3618e-16],\n",
            "        [2.4832e-16, 2.9388e-39, 2.9388e-39],\n",
            "        [2.9388e-39, 2.9388e-39, 2.9388e-39],\n",
            "        [2.9388e-39, 2.9388e-39, 2.9388e-39],\n",
            "        [2.9388e-39, 2.9388e-39, 1.1388e-38]])\n"
          ],
          "name": "stdout"
        }
      ]
    },
    {
      "metadata": {
        "id": "Mc-Kgg7mU4GH",
        "colab_type": "code",
        "outputId": "253c2232-9220-403b-90c0-8e0388eb5871",
        "colab": {
          "base_uri": "https://localhost:8080/",
          "height": 102
        }
      },
      "cell_type": "code",
      "source": [
        "x = torch.rand(5, 3)\n",
        "print(x)"
      ],
      "execution_count": 0,
      "outputs": [
        {
          "output_type": "stream",
          "text": [
            "tensor([[0.0574, 0.5695, 0.0469],\n",
            "        [0.8660, 0.7155, 0.7016],\n",
            "        [0.6127, 0.5724, 0.2929],\n",
            "        [0.0610, 0.4755, 0.0938],\n",
            "        [0.1086, 0.0808, 0.7381]])\n"
          ],
          "name": "stdout"
        }
      ]
    },
    {
      "metadata": {
        "id": "hIOoAbXHU_sc",
        "colab_type": "code",
        "outputId": "b2e78287-671d-414e-fdaf-69f3e2de77d7",
        "colab": {
          "base_uri": "https://localhost:8080/",
          "height": 102
        }
      },
      "cell_type": "code",
      "source": [
        "x = torch.zeros(5, 3, dtype=torch.long)\n",
        "print(x)"
      ],
      "execution_count": 0,
      "outputs": [
        {
          "output_type": "stream",
          "text": [
            "tensor([[0, 0, 0],\n",
            "        [0, 0, 0],\n",
            "        [0, 0, 0],\n",
            "        [0, 0, 0],\n",
            "        [0, 0, 0]])\n"
          ],
          "name": "stdout"
        }
      ]
    },
    {
      "metadata": {
        "id": "8Q8M6f0SVJar",
        "colab_type": "code",
        "outputId": "ef61bd51-6eba-4fca-e44d-512af4b5182d",
        "colab": {
          "base_uri": "https://localhost:8080/",
          "height": 34
        }
      },
      "cell_type": "code",
      "source": [
        "x = torch.tensor([5.5, 3])\n",
        "print(x)"
      ],
      "execution_count": 0,
      "outputs": [
        {
          "output_type": "stream",
          "text": [
            "tensor([5.5000, 3.0000])\n"
          ],
          "name": "stdout"
        }
      ]
    },
    {
      "metadata": {
        "id": "KlWTWG8DVgQA",
        "colab_type": "code",
        "outputId": "e451ac28-a325-448d-efc5-f05020711b6b",
        "colab": {
          "base_uri": "https://localhost:8080/",
          "height": 204
        }
      },
      "cell_type": "code",
      "source": [
        "x = x.new_ones(5, 3, dtype=torch.double)\n",
        "print(x)\n",
        "\n",
        "x = torch.randn_like(x, dtype=torch.float)\n",
        "print(x)\n",
        "print(x.size())"
      ],
      "execution_count": 0,
      "outputs": [
        {
          "output_type": "stream",
          "text": [
            "tensor([[1., 1., 1.],\n",
            "        [1., 1., 1.],\n",
            "        [1., 1., 1.],\n",
            "        [1., 1., 1.],\n",
            "        [1., 1., 1.]], dtype=torch.float64)\n",
            "tensor([[ 1.9327,  0.6674,  0.8193],\n",
            "        [-0.1267, -1.4513,  0.0765],\n",
            "        [-0.4913, -0.1592, -0.6308],\n",
            "        [ 1.1919,  0.3471,  0.2814],\n",
            "        [-0.5643, -0.9128,  0.0381]])\n",
            "torch.Size([5, 3])\n"
          ],
          "name": "stdout"
        }
      ]
    },
    {
      "metadata": {
        "id": "B1mhHoMxWHTY",
        "colab_type": "code",
        "colab": {}
      },
      "cell_type": "code",
      "source": [
        "y = torch.rand(5, 3)"
      ],
      "execution_count": 0,
      "outputs": []
    },
    {
      "metadata": {
        "id": "vIAlUUMnXCOa",
        "colab_type": "code",
        "outputId": "83cf5b91-8583-4e8e-817e-57782474c24d",
        "colab": {
          "base_uri": "https://localhost:8080/",
          "height": 187
        }
      },
      "cell_type": "code",
      "source": [
        "print(x + y)\n",
        "print(torch.add(x, y))"
      ],
      "execution_count": 0,
      "outputs": [
        {
          "output_type": "stream",
          "text": [
            "tensor([[ 2.8709,  0.7795,  1.5126],\n",
            "        [ 0.2752, -1.2126,  0.9182],\n",
            "        [-0.4537, -0.0747, -0.0152],\n",
            "        [ 1.3360,  0.8255,  0.5414],\n",
            "        [-0.5398, -0.7711,  0.1537]])\n",
            "tensor([[ 2.8709,  0.7795,  1.5126],\n",
            "        [ 0.2752, -1.2126,  0.9182],\n",
            "        [-0.4537, -0.0747, -0.0152],\n",
            "        [ 1.3360,  0.8255,  0.5414],\n",
            "        [-0.5398, -0.7711,  0.1537]])\n"
          ],
          "name": "stdout"
        }
      ]
    },
    {
      "metadata": {
        "id": "WSSE69DyXVnH",
        "colab_type": "code",
        "outputId": "20b456d2-94dc-461e-da7d-a535f0432af1",
        "colab": {
          "base_uri": "https://localhost:8080/",
          "height": 102
        }
      },
      "cell_type": "code",
      "source": [
        "result = torch.empty(5, 3)\n",
        "torch.add(x, y, out = result)\n",
        "print(result)"
      ],
      "execution_count": 0,
      "outputs": [
        {
          "output_type": "stream",
          "text": [
            "tensor([[ 2.8709,  0.7795,  1.5126],\n",
            "        [ 0.2752, -1.2126,  0.9182],\n",
            "        [-0.4537, -0.0747, -0.0152],\n",
            "        [ 1.3360,  0.8255,  0.5414],\n",
            "        [-0.5398, -0.7711,  0.1537]])\n"
          ],
          "name": "stdout"
        }
      ]
    },
    {
      "metadata": {
        "id": "39Zy1DwPXqe5",
        "colab_type": "code",
        "outputId": "c0736c66-5371-40ac-cc49-0fc4c411092f",
        "colab": {
          "base_uri": "https://localhost:8080/",
          "height": 102
        }
      },
      "cell_type": "code",
      "source": [
        "y.add_(x)\n",
        "print(y)"
      ],
      "execution_count": 0,
      "outputs": [
        {
          "output_type": "stream",
          "text": [
            "tensor([[ 2.8709,  0.7795,  1.5126],\n",
            "        [ 0.2752, -1.2126,  0.9182],\n",
            "        [-0.4537, -0.0747, -0.0152],\n",
            "        [ 1.3360,  0.8255,  0.5414],\n",
            "        [-0.5398, -0.7711,  0.1537]])\n"
          ],
          "name": "stdout"
        }
      ]
    },
    {
      "metadata": {
        "id": "Q_lWqsXLYBWW",
        "colab_type": "code",
        "outputId": "60b1396f-1330-4d29-98f3-66db531f3fd9",
        "colab": {
          "base_uri": "https://localhost:8080/",
          "height": 119
        }
      },
      "cell_type": "code",
      "source": [
        "print(x)\n",
        "print(x[0, :])"
      ],
      "execution_count": 0,
      "outputs": [
        {
          "output_type": "stream",
          "text": [
            "tensor([[ 1.9327,  0.6674,  0.8193],\n",
            "        [-0.1267, -1.4513,  0.0765],\n",
            "        [-0.4913, -0.1592, -0.6308],\n",
            "        [ 1.1919,  0.3471,  0.2814],\n",
            "        [-0.5643, -0.9128,  0.0381]])\n",
            "tensor([1.9327, 0.6674, 0.8193])\n"
          ],
          "name": "stdout"
        }
      ]
    },
    {
      "metadata": {
        "id": "N3j40cyVYPiq",
        "colab_type": "code",
        "outputId": "b26a706e-5034-4db6-de8a-5db2070a4e51",
        "colab": {
          "base_uri": "https://localhost:8080/",
          "height": 170
        }
      },
      "cell_type": "code",
      "source": [
        "x = torch.randn(4, 4)\n",
        "print(x)\n",
        "y = x.view(16)\n",
        "print(y)\n",
        "z = x.view(-1, 8)\n",
        "print(z)\n",
        "print(x.size(), y.size(), z.size())"
      ],
      "execution_count": 0,
      "outputs": [
        {
          "output_type": "stream",
          "text": [
            "tensor([[-0.1642, -0.8975, -0.2236, -1.2245],\n",
            "        [-1.4289,  0.9404,  1.1675, -0.9267],\n",
            "        [-0.0733, -2.4174, -1.2378, -1.8223],\n",
            "        [ 1.4877,  0.2075, -0.5342, -1.4796]])\n",
            "tensor([-0.1642, -0.8975, -0.2236, -1.2245, -1.4289,  0.9404,  1.1675, -0.9267,\n",
            "        -0.0733, -2.4174, -1.2378, -1.8223,  1.4877,  0.2075, -0.5342, -1.4796])\n",
            "tensor([[-0.1642, -0.8975, -0.2236, -1.2245, -1.4289,  0.9404,  1.1675, -0.9267],\n",
            "        [-0.0733, -2.4174, -1.2378, -1.8223,  1.4877,  0.2075, -0.5342, -1.4796]])\n",
            "torch.Size([4, 4]) torch.Size([16]) torch.Size([2, 8])\n"
          ],
          "name": "stdout"
        }
      ]
    },
    {
      "metadata": {
        "id": "6a2gKKWbYyI3",
        "colab_type": "code",
        "outputId": "45d30ec3-5187-47f6-caad-dbb47ed616f6",
        "colab": {
          "base_uri": "https://localhost:8080/",
          "height": 51
        }
      },
      "cell_type": "code",
      "source": [
        "x = torch.randn(1)\n",
        "print(x)\n",
        "print(x.item())"
      ],
      "execution_count": 0,
      "outputs": [
        {
          "output_type": "stream",
          "text": [
            "tensor([-0.2450])\n",
            "-0.2449859380722046\n"
          ],
          "name": "stdout"
        }
      ]
    },
    {
      "metadata": {
        "id": "Lg7unF89ZVmM",
        "colab_type": "code",
        "outputId": "0e04b182-76c7-4986-c3e1-407e60ffcfd0",
        "colab": {
          "base_uri": "https://localhost:8080/",
          "height": 34
        }
      },
      "cell_type": "code",
      "source": [
        "a = torch.ones(5)\n",
        "print(a)"
      ],
      "execution_count": 0,
      "outputs": [
        {
          "output_type": "stream",
          "text": [
            "tensor([1., 1., 1., 1., 1.])\n"
          ],
          "name": "stdout"
        }
      ]
    },
    {
      "metadata": {
        "id": "VMEQ3539d_My",
        "colab_type": "code",
        "outputId": "4b0c63ab-8b63-41bd-df9f-94d9be5fb670",
        "colab": {
          "base_uri": "https://localhost:8080/",
          "height": 34
        }
      },
      "cell_type": "code",
      "source": [
        "b = a.numpy()\n",
        "print(b)"
      ],
      "execution_count": 0,
      "outputs": [
        {
          "output_type": "stream",
          "text": [
            "[1. 1. 1. 1. 1.]\n"
          ],
          "name": "stdout"
        }
      ]
    },
    {
      "metadata": {
        "id": "_MvejeHCeDkA",
        "colab_type": "code",
        "outputId": "73f15e4a-913c-42a0-eafb-6b7ada33c7d3",
        "colab": {
          "base_uri": "https://localhost:8080/",
          "height": 51
        }
      },
      "cell_type": "code",
      "source": [
        "a.add_(1)\n",
        "print(a)\n",
        "print(b)"
      ],
      "execution_count": 0,
      "outputs": [
        {
          "output_type": "stream",
          "text": [
            "tensor([6., 6., 6., 6., 6.])\n",
            "[6. 6. 6. 6. 6.]\n"
          ],
          "name": "stdout"
        }
      ]
    },
    {
      "metadata": {
        "id": "5dpnxB2geMzu",
        "colab_type": "code",
        "outputId": "7916a6bd-4b59-4705-b7cb-5d1eb703c861",
        "colab": {
          "base_uri": "https://localhost:8080/",
          "height": 51
        }
      },
      "cell_type": "code",
      "source": [
        "import numpy as np\n",
        "a = np.ones(5)\n",
        "b = torch.from_numpy(a)\n",
        "np.add(a, 1, out = a)\n",
        "print(a)\n",
        "print(b)"
      ],
      "execution_count": 0,
      "outputs": [
        {
          "output_type": "stream",
          "text": [
            "[2. 2. 2. 2. 2.]\n",
            "tensor([2., 2., 2., 2., 2.], dtype=torch.float64)\n"
          ],
          "name": "stdout"
        }
      ]
    },
    {
      "metadata": {
        "id": "_-Sd5jNieqgS",
        "colab_type": "code",
        "outputId": "96f3d9c2-10fd-4fef-dd00-e26c30f6f039",
        "colab": {
          "base_uri": "https://localhost:8080/",
          "height": 34
        }
      },
      "cell_type": "code",
      "source": [
        "torch.cuda.is_available()"
      ],
      "execution_count": 0,
      "outputs": [
        {
          "output_type": "execute_result",
          "data": {
            "text/plain": [
              "True"
            ]
          },
          "metadata": {
            "tags": []
          },
          "execution_count": 56
        }
      ]
    },
    {
      "metadata": {
        "id": "wCo_ko6Fe02c",
        "colab_type": "code",
        "outputId": "a4660843-5f93-425a-b34a-c0f117bdb3ce",
        "colab": {
          "base_uri": "https://localhost:8080/",
          "height": 34
        }
      },
      "cell_type": "code",
      "source": [
        "device = torch.device(\"cuda\")\n",
        "print(type(device), device)"
      ],
      "execution_count": 0,
      "outputs": [
        {
          "output_type": "stream",
          "text": [
            "<class 'torch.device'> cuda\n"
          ],
          "name": "stdout"
        }
      ]
    },
    {
      "metadata": {
        "id": "j4nF3l8-e4pe",
        "colab_type": "code",
        "outputId": "12b79de8-6b5c-4990-ce48-88e9fe550894",
        "colab": {
          "base_uri": "https://localhost:8080/",
          "height": 51
        }
      },
      "cell_type": "code",
      "source": [
        "y = torch.ones_like(x, device = device)\n",
        "x = x.to(device)\n",
        "z = x + y\n",
        "print(z)\n",
        "print(z.to(\"cpu\", torch.double))"
      ],
      "execution_count": 0,
      "outputs": [
        {
          "output_type": "stream",
          "text": [
            "tensor([0.7550], device='cuda:0')\n",
            "tensor([0.7550], dtype=torch.float64)\n"
          ],
          "name": "stdout"
        }
      ]
    },
    {
      "metadata": {
        "id": "G3qaNcQNfLJQ",
        "colab_type": "code",
        "colab": {}
      },
      "cell_type": "code",
      "source": [
        ""
      ],
      "execution_count": 0,
      "outputs": []
    },
    {
      "metadata": {
        "id": "ksTSzkDApzBl",
        "colab_type": "code",
        "colab": {}
      },
      "cell_type": "code",
      "source": [
        ""
      ],
      "execution_count": 0,
      "outputs": []
    }
  ]
}